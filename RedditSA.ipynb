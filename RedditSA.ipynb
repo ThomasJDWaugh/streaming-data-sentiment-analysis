{
 "cells": [
  {
   "cell_type": "code",
   "execution_count": null,
   "id": "91e2c044-c422-49eb-bf1d-86b597a6f856",
   "metadata": {},
   "outputs": [],
   "source": [
    "!pip install langdetect"
   ]
  },
  {
   "cell_type": "code",
   "execution_count": 7,
   "id": "0959e967-83b6-46d1-909f-d5ecde1a9177",
   "metadata": {},
   "outputs": [
    {
     "name": "stdout",
     "output_type": "stream",
     "text": [
      "Requirement already satisfied: praw in c:\\users\\labadmin\\appdata\\local\\programs\\python\\python39\\lib\\site-packages (7.8.1)\n",
      "Requirement already satisfied: textblob in c:\\users\\labadmin\\appdata\\local\\programs\\python\\python39\\lib\\site-packages (0.18.0.post0)\n",
      "Requirement already satisfied: matplotlib in c:\\users\\labadmin\\appdata\\local\\programs\\python\\python39\\lib\\site-packages (3.9.2)\n",
      "Requirement already satisfied: seaborn in c:\\users\\labadmin\\appdata\\local\\programs\\python\\python39\\lib\\site-packages (0.13.2)\n",
      "Requirement already satisfied: update_checker>=0.18 in c:\\users\\labadmin\\appdata\\local\\programs\\python\\python39\\lib\\site-packages (from praw) (0.18.0)\n",
      "Requirement already satisfied: websocket-client>=0.54.0 in c:\\users\\labadmin\\appdata\\local\\programs\\python\\python39\\lib\\site-packages (from praw) (1.8.0)\n",
      "Requirement already satisfied: prawcore<3,>=2.4 in c:\\users\\labadmin\\appdata\\local\\programs\\python\\python39\\lib\\site-packages (from praw) (2.4.0)\n",
      "Requirement already satisfied: nltk>=3.8 in c:\\users\\labadmin\\appdata\\local\\programs\\python\\python39\\lib\\site-packages (from textblob) (3.9.1)\n",
      "Requirement already satisfied: contourpy>=1.0.1 in c:\\users\\labadmin\\appdata\\local\\programs\\python\\python39\\lib\\site-packages (from matplotlib) (1.3.0)\n",
      "Requirement already satisfied: pyparsing>=2.3.1 in c:\\users\\labadmin\\appdata\\local\\programs\\python\\python39\\lib\\site-packages (from matplotlib) (3.2.0)\n",
      "Requirement already satisfied: packaging>=20.0 in c:\\users\\labadmin\\appdata\\local\\programs\\python\\python39\\lib\\site-packages (from matplotlib) (24.1)\n",
      "Requirement already satisfied: numpy>=1.23 in c:\\users\\labadmin\\appdata\\local\\programs\\python\\python39\\lib\\site-packages (from matplotlib) (2.0.2)\n",
      "Requirement already satisfied: python-dateutil>=2.7 in c:\\users\\labadmin\\appdata\\local\\programs\\python\\python39\\lib\\site-packages (from matplotlib) (2.9.0.post0)\n",
      "Requirement already satisfied: pillow>=8 in c:\\users\\labadmin\\appdata\\local\\programs\\python\\python39\\lib\\site-packages (from matplotlib) (11.0.0)\n",
      "Requirement already satisfied: cycler>=0.10 in c:\\users\\labadmin\\appdata\\local\\programs\\python\\python39\\lib\\site-packages (from matplotlib) (0.12.1)\n",
      "Requirement already satisfied: importlib-resources>=3.2.0; python_version < \"3.10\" in c:\\users\\labadmin\\appdata\\local\\programs\\python\\python39\\lib\\site-packages (from matplotlib) (6.4.5)\n",
      "Requirement already satisfied: fonttools>=4.22.0 in c:\\users\\labadmin\\appdata\\local\\programs\\python\\python39\\lib\\site-packages (from matplotlib) (4.54.1)\n",
      "Requirement already satisfied: kiwisolver>=1.3.1 in c:\\users\\labadmin\\appdata\\local\\programs\\python\\python39\\lib\\site-packages (from matplotlib) (1.4.7)\n",
      "Requirement already satisfied: pandas>=1.2 in c:\\users\\labadmin\\appdata\\local\\programs\\python\\python39\\lib\\site-packages (from seaborn) (2.2.3)\n",
      "Requirement already satisfied: requests>=2.3.0 in c:\\users\\labadmin\\appdata\\local\\programs\\python\\python39\\lib\\site-packages (from update_checker>=0.18->praw) (2.32.3)\n",
      "Requirement already satisfied: click in c:\\users\\labadmin\\appdata\\local\\programs\\python\\python39\\lib\\site-packages (from nltk>=3.8->textblob) (8.1.7)\n",
      "Requirement already satisfied: joblib in c:\\users\\labadmin\\appdata\\local\\programs\\python\\python39\\lib\\site-packages (from nltk>=3.8->textblob) (1.4.2)\n",
      "Requirement already satisfied: tqdm in c:\\users\\labadmin\\appdata\\local\\programs\\python\\python39\\lib\\site-packages (from nltk>=3.8->textblob) (4.66.5)\n",
      "Requirement already satisfied: regex>=2021.8.3 in c:\\users\\labadmin\\appdata\\local\\programs\\python\\python39\\lib\\site-packages (from nltk>=3.8->textblob) (2024.9.11)\n",
      "Requirement already satisfied: six>=1.5 in c:\\users\\labadmin\\appdata\\local\\programs\\python\\python39\\lib\\site-packages (from python-dateutil>=2.7->matplotlib) (1.16.0)\n",
      "Requirement already satisfied: zipp>=3.1.0; python_version < \"3.10\" in c:\\users\\labadmin\\appdata\\local\\programs\\python\\python39\\lib\\site-packages (from importlib-resources>=3.2.0; python_version < \"3.10\"->matplotlib) (3.20.2)\n",
      "Requirement already satisfied: pytz>=2020.1 in c:\\users\\labadmin\\appdata\\local\\programs\\python\\python39\\lib\\site-packages (from pandas>=1.2->seaborn) (2024.2)\n",
      "Requirement already satisfied: tzdata>=2022.7 in c:\\users\\labadmin\\appdata\\local\\programs\\python\\python39\\lib\\site-packages (from pandas>=1.2->seaborn) (2024.2)\n",
      "Requirement already satisfied: charset-normalizer<4,>=2 in c:\\users\\labadmin\\appdata\\local\\programs\\python\\python39\\lib\\site-packages (from requests>=2.3.0->update_checker>=0.18->praw) (3.4.0)\n",
      "Requirement already satisfied: urllib3<3,>=1.21.1 in c:\\users\\labadmin\\appdata\\local\\programs\\python\\python39\\lib\\site-packages (from requests>=2.3.0->update_checker>=0.18->praw) (2.2.3)\n",
      "Requirement already satisfied: certifi>=2017.4.17 in c:\\users\\labadmin\\appdata\\local\\programs\\python\\python39\\lib\\site-packages (from requests>=2.3.0->update_checker>=0.18->praw) (2024.8.30)\n",
      "Requirement already satisfied: idna<4,>=2.5 in c:\\users\\labadmin\\appdata\\local\\programs\\python\\python39\\lib\\site-packages (from requests>=2.3.0->update_checker>=0.18->praw) (3.10)\n",
      "Requirement already satisfied: colorama; platform_system == \"Windows\" in c:\\users\\labadmin\\appdata\\local\\programs\\python\\python39\\lib\\site-packages (from click->nltk>=3.8->textblob) (0.4.6)\n"
     ]
    },
    {
     "name": "stderr",
     "output_type": "stream",
     "text": [
      "WARNING: You are using pip version 20.2.3; however, version 24.3.1 is available.\n",
      "You should consider upgrading via the 'c:\\users\\labadmin\\appdata\\local\\programs\\python\\python39\\python.exe -m pip install --upgrade pip' command.\n"
     ]
    }
   ],
   "source": [
    "!pip install praw textblob matplotlib seaborn"
   ]
  },
  {
   "cell_type": "code",
   "execution_count": 8,
   "id": "652fa9a7-90ff-4a84-a375-2530c10175d2",
   "metadata": {},
   "outputs": [],
   "source": [
    "import praw\n",
    "import pandas as pd\n",
    "from textblob import TextBlob\n",
    "import re\n",
    "import matplotlib.pyplot as plt\n",
    "import seaborn as sns"
   ]
  },
  {
   "cell_type": "code",
   "execution_count": 9,
   "id": "16ff7e75-581e-4e96-9d3e-4bebe9a25281",
   "metadata": {},
   "outputs": [
    {
     "name": "stdout",
     "output_type": "stream",
     "text": [
      "Fetched 1193 comments related to 'antimicrobial resistance'.\n"
     ]
    }
   ],
   "source": [
    "# Set up Reddit API credentials\n",
    "reddit = praw.Reddit(\n",
    "    client_id=\"tQT8gjNPAUsapQ65e1Ft0Q\",\n",
    "    client_secret=\"bMA87kb-r0ju1LQehUed4Zzc68JfXg\",\n",
    "    user_agent=\"python:reddit.sentiment.analysis:v1.0 (by u/ThomasWaugh1702)\"\n",
    ")\n",
    "\n",
    "# Function to fetch comments from a subreddit\n",
    "def fetch_topic_comments(topic, subreddit_name=\"all\", post_limit=10):\n",
    "    comments = []\n",
    "    subreddit = reddit.subreddit(subreddit_name)\n",
    "    \n",
    "    # Search for posts containing the topic\n",
    "    for post in subreddit.search(topic, limit=post_limit):\n",
    "        post.comments.replace_more(limit=0)  # Avoid 'MoreComments' objects\n",
    "        for comment in post.comments.list():\n",
    "            comments.append(comment)\n",
    "    \n",
    "    return comments\n",
    "\n",
    "# Fetch comments about antimicrobial resistance\n",
    "topic_comments = fetch_topic_comments(\"antimicrobial resistance\", subreddit_name=\"science\", post_limit=10)\n",
    "\n",
    "# Display how many comments were fetched\n",
    "print(f\"Fetched {len(topic_comments)} comments related to 'antimicrobial resistance'.\")\n"
   ]
  },
  {
   "cell_type": "code",
   "execution_count": 10,
   "id": "53e026c4-27e8-4b9b-ba33-f537fe76b684",
   "metadata": {},
   "outputs": [
    {
     "name": "stdout",
     "output_type": "stream",
     "text": [
      "Cleaned and retained 1082 comments out of 1193.\n"
     ]
    }
   ],
   "source": [
    "# Function to clean and filter comments\n",
    "def clean_comments(comments):\n",
    "    cleaned_comments = []\n",
    "    for comment in comments:\n",
    "        try:\n",
    "            # Remove NAs or empty strings\n",
    "            if not comment or pd.isna(comment.body):\n",
    "                continue\n",
    "\n",
    "            # Remove non-alphabetic characters and extra spaces\n",
    "            comment_body = re.sub(r\"[^a-zA-Z\\s]\", \"\", comment.body)\n",
    "            comment_body = re.sub(r\"\\s+\", \" \", comment_body).strip()\n",
    "\n",
    "            # Convert to lowercase\n",
    "            comment_body = comment_body.lower()\n",
    "\n",
    "            # Filter out comments with fewer than 5 words\n",
    "            if len(comment_body.split()) < 5:\n",
    "                continue\n",
    "\n",
    "            cleaned_comments.append(comment_body)\n",
    "        except Exception as e:\n",
    "            continue\n",
    "\n",
    "    return cleaned_comments\n",
    "\n",
    "# Clean the fetched comments\n",
    "cleaned_comments = clean_comments(topic_comments)\n",
    "print(f\"Cleaned and retained {len(cleaned_comments)} comments out of {len(topic_comments)}.\")\n"
   ]
  },
  {
   "cell_type": "code",
   "execution_count": 11,
   "id": "8d150b7a-97e5-44fd-8fab-954488ead088",
   "metadata": {},
   "outputs": [
    {
     "data": {
      "text/html": [
       "<div>\n",
       "<style scoped>\n",
       "    .dataframe tbody tr th:only-of-type {\n",
       "        vertical-align: middle;\n",
       "    }\n",
       "\n",
       "    .dataframe tbody tr th {\n",
       "        vertical-align: top;\n",
       "    }\n",
       "\n",
       "    .dataframe thead th {\n",
       "        text-align: right;\n",
       "    }\n",
       "</style>\n",
       "<table border=\"1\" class=\"dataframe\">\n",
       "  <thead>\n",
       "    <tr style=\"text-align: right;\">\n",
       "      <th></th>\n",
       "      <th>comment</th>\n",
       "      <th>polarity</th>\n",
       "      <th>subjectivity</th>\n",
       "    </tr>\n",
       "  </thead>\n",
       "  <tbody>\n",
       "    <tr>\n",
       "      <th>0</th>\n",
       "      <td>welcome to rscience this is a heavily moderate...</td>\n",
       "      <td>0.202778</td>\n",
       "      <td>0.513889</td>\n",
       "    </tr>\n",
       "    <tr>\n",
       "      <th>1</th>\n",
       "      <td>oh hey its thats thing weve been talking about...</td>\n",
       "      <td>0.000000</td>\n",
       "      <td>0.000000</td>\n",
       "    </tr>\n",
       "    <tr>\n",
       "      <th>2</th>\n",
       "      <td>given this was the subject of my phd i feel i ...</td>\n",
       "      <td>0.095076</td>\n",
       "      <td>0.416667</td>\n",
       "    </tr>\n",
       "    <tr>\n",
       "      <th>3</th>\n",
       "      <td>i wonder what is going to get us first climate...</td>\n",
       "      <td>0.125000</td>\n",
       "      <td>0.229167</td>\n",
       "    </tr>\n",
       "    <tr>\n",
       "      <th>4</th>\n",
       "      <td>humanity ultimate talent of shooting itself in...</td>\n",
       "      <td>0.000000</td>\n",
       "      <td>1.000000</td>\n",
       "    </tr>\n",
       "  </tbody>\n",
       "</table>\n",
       "</div>"
      ],
      "text/plain": [
       "                                             comment  polarity  subjectivity\n",
       "0  welcome to rscience this is a heavily moderate...  0.202778      0.513889\n",
       "1  oh hey its thats thing weve been talking about...  0.000000      0.000000\n",
       "2  given this was the subject of my phd i feel i ...  0.095076      0.416667\n",
       "3  i wonder what is going to get us first climate...  0.125000      0.229167\n",
       "4  humanity ultimate talent of shooting itself in...  0.000000      1.000000"
      ]
     },
     "execution_count": 11,
     "metadata": {},
     "output_type": "execute_result"
    }
   ],
   "source": [
    "# Function to perform sentiment analysis on cleaned comments\n",
    "def analyze_sentiment(comments):\n",
    "    sentiment_data = []\n",
    "    for comment in comments:\n",
    "        blob = TextBlob(comment)\n",
    "        sentiment_data.append({\n",
    "            \"comment\": comment,\n",
    "            \"polarity\": blob.sentiment.polarity,\n",
    "            \"subjectivity\": blob.sentiment.subjectivity\n",
    "        })\n",
    "    return pd.DataFrame(sentiment_data)\n",
    "\n",
    "# Perform sentiment analysis on the cleaned comments\n",
    "sentiment_df = analyze_sentiment(cleaned_comments)\n",
    "\n",
    "# Display the first few rows of the sentiment data\n",
    "sentiment_df.head()\n"
   ]
  },
  {
   "cell_type": "code",
   "execution_count": 12,
   "id": "d95b0518-84cd-4ab3-b981-b3c40f897a06",
   "metadata": {},
   "outputs": [
    {
     "data": {
      "image/png": "[encoded data removed]",
      "text/plain": [
       "<Figure size 1000x600 with 1 Axes>"
      ]
     },
     "metadata": {},
     "output_type": "display_data"
    }
   ],
   "source": [
    "# Plot sentiment polarity distribution\n",
    "plt.figure(figsize=(10, 6))\n",
    "sns.histplot(sentiment_df[\"polarity\"], kde=True, bins=20)\n",
    "plt.title(\"Sentiment Polarity Distribution of Comments\")\n",
    "plt.xlabel(\"Polarity\")\n",
    "plt.ylabel(\"Frequency\")\n",
    "plt.show()"
   ]
  },
  {
   "cell_type": "code",
   "execution_count": null,
   "id": "33df4c9a-ae37-469a-bcdd-a0c78ec15571",
   "metadata": {},
   "outputs": [],
   "source": []
  }
 ],
 "metadata": {
  "kernelspec": {
   "display_name": "Python 3 (ipykernel)",
   "language": "python",
   "name": "python3"
  },
  "language_info": {
   "codemirror_mode": {
    "name": "ipython",
    "version": 3
   },
   "file_extension": ".py",
   "mimetype": "text/x-python",
   "name": "python",
   "nbconvert_exporter": "python",
   "pygments_lexer": "ipython3",
   "version": "3.9.0"
  }
 },
 "nbformat": 4,
 "nbformat_minor": 5
}
